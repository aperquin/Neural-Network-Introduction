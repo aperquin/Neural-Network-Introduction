{
  "cells": [
    {
      "cell_type": "code",
      "execution_count": 1,
      "metadata": {
        "id": "gtNMX5o2JcNB"
      },
      "outputs": [],
      "source": [
        "import torch\n",
        "import torchvision\n",
        "import numpy as np\n",
        "import matplotlib.pyplot as plt\n",
        "from torchsummary import summary"
      ]
    },
    {
      "cell_type": "code",
      "execution_count": 2,
      "metadata": {
        "id": "heEtThXkJcNG"
      },
      "outputs": [],
      "source": [
        "# Global variables\n",
        "ratio_test = 0.1\n",
        "ratio_dev = 0.1\n",
        "nb_epoch = 10\n",
        "batch_size = 16\n",
        "learning_rate = 1e-3\n",
        "save_plot_path_dnn = \"training_plot_dnn.png\"\n",
        "save_plot_path_cnn = \"training_plot_cnn.png\"\n",
        "evaluate_on_test_set = True"
      ]
    },
    {
      "cell_type": "code",
      "execution_count": 3,
      "metadata": {
        "colab": {
          "base_uri": "https://localhost:8080/"
        },
        "id": "9cnXdEbiMalp",
        "outputId": "e0320af2-b030-46b2-8f51-20a16241dafe"
      },
      "outputs": [
        {
          "name": "stdout",
          "output_type": "stream",
          "text": [
            "Computation will be done on cpu\n"
          ]
        }
      ],
      "source": [
        "# Sets up computing device as GPU if one is available, CPU otherwise\n",
        "if torch.cuda.device_count() > 0:\n",
        "    device = torch.device(\"cuda:0\")\n",
        "else:\n",
        "    device = torch.device(\"cpu\")\n",
        "print(f\"Computation will be done on {device}\")"
      ]
    },
    {
      "cell_type": "markdown",
      "metadata": {
        "id": "DDgoAVbIJcNI"
      },
      "source": [
        "# Data Loading"
      ]
    },
    {
      "cell_type": "code",
      "execution_count": 4,
      "metadata": {
        "id": "gdoeTpg_JcNK"
      },
      "outputs": [],
      "source": [
        "# Import the whole dataset, download it if needed\n",
        "dataset_full = torchvision.datasets.MNIST(root='datasets', download=True, transform=torchvision.transforms.ToTensor())"
      ]
    },
    {
      "cell_type": "code",
      "execution_count": 5,
      "metadata": {
        "id": "bnvS9j04JcNM"
      },
      "outputs": [],
      "source": [
        "# Cut the whole dataset in train / test / dev subset index-wise\n",
        "all_indexes = np.array([i for i in range(len(dataset_full))])\n",
        "test_indexes = np.sort(np.random.choice(all_indexes, int(ratio_test * len(all_indexes))))\n",
        "remaining_indexes = np.setdiff1d(all_indexes, test_indexes)\n",
        "dev_indexes = np.sort(np.random.choice(remaining_indexes, int(ratio_dev * len(all_indexes))))\n",
        "train_indexes = np.setdiff1d(remaining_indexes, dev_indexes)"
      ]
    },
    {
      "cell_type": "code",
      "execution_count": 6,
      "metadata": {
        "id": "fQeWx3SFJcNN"
      },
      "outputs": [],
      "source": [
        "# Actually cut the whole dataset in train / test / dev\n",
        "dataset_train = torch.utils.data.Subset(dataset_full, train_indexes)\n",
        "dataset_test = torch.utils.data.Subset(dataset_full, test_indexes)\n",
        "dataset_dev = torch.utils.data.Subset(dataset_full, dev_indexes)"
      ]
    },
    {
      "cell_type": "code",
      "execution_count": 7,
      "metadata": {
        "id": "uTj5JRUUJcNP"
      },
      "outputs": [],
      "source": [
        "# Wrap the datasets to allow for easy batch-loading\n",
        "dataloader_train = torch.utils.data.DataLoader(dataset_train, batch_size=batch_size)\n",
        "dataloader_test = torch.utils.data.DataLoader(dataset_test, batch_size=batch_size)\n",
        "dataloader_dev = torch.utils.data.DataLoader(dataset_dev, batch_size=batch_size)"
      ]
    },
    {
      "cell_type": "code",
      "execution_count": 8,
      "metadata": {
        "id": "rlPrOf8KJcNT"
      },
      "outputs": [],
      "source": [
        "# # Define a function to print a sample of the MNIST dataset\n",
        "# def print_sample(sample):\n",
        "#     image, label = sample\n",
        "#     print(f\"Label={label}\")\n",
        "#     plt.imshow(image)"
      ]
    },
    {
      "cell_type": "code",
      "execution_count": 9,
      "metadata": {
        "id": "lggwoXOeJcNW"
      },
      "outputs": [],
      "source": [
        "# # Take a look at examples of the loaded dataset\n",
        "# random_i = np.random.randint(len(dataset_dev))\n",
        "# print_sample(dataset_dev[random_i])"
      ]
    },
    {
      "cell_type": "markdown",
      "metadata": {
        "id": "ri9AGbOuJcNa"
      },
      "source": [
        "# A new method of coding neural networks"
      ]
    },
    {
      "cell_type": "markdown",
      "metadata": {
        "id": "3av3K7ERJcNb"
      },
      "source": [
        "In the previous exercise, we used the `Sequential` wrapper to build Neural Networks quickly and simply. Let us look at the more generic way of building a neural network, by inheriting from the `torch.nn.Module` class.\n",
        "\n",
        "Using this method, two methods need to be defined when builing a new Neural Network. The function `__init__` defines the different layers and other objects that are necessary for the computation. The function `forward` then defines how those layers and objects interact with each other. For example, to build a Fully Connected Deep Neural Network with 3 hidden layer using ReLU activation functions, and a fully-connected output layer with a softmax activation function:"
      ]
    },
    {
      "cell_type": "code",
      "execution_count": 10,
      "metadata": {
        "colab": {
          "base_uri": "https://localhost:8080/"
        },
        "id": "BhtjUCj1JcNd",
        "outputId": "69206103-8a2f-49dc-deff-b9fb5aa6503d"
      },
      "outputs": [
        {
          "name": "stdout",
          "output_type": "stream",
          "text": [
            "DummyFullyConnectedNetwork(\n",
            "  (layer_1): Linear(in_features=16, out_features=64, bias=True)\n",
            "  (layer_2): Linear(in_features=64, out_features=64, bias=True)\n",
            "  (layer_3): Linear(in_features=64, out_features=64, bias=True)\n",
            "  (layer_4): Linear(in_features=64, out_features=10, bias=True)\n",
            "  (activation_1): ReLU()\n",
            "  (activation_2): ReLU()\n",
            "  (activation_3): Softmax(dim=None)\n",
            ")\n"
          ]
        }
      ],
      "source": [
        "class DummyFullyConnectedNetwork(torch.nn.Module):\n",
        "    def __init__(self, input_dim, output_dim, hidden_dim):\n",
        "        super().__init__()\n",
        "        self.layer_1 = torch.nn.Linear(input_dim, hidden_dim)\n",
        "        self.layer_2 = torch.nn.Linear(hidden_dim, hidden_dim)\n",
        "        self.layer_3 = torch.nn.Linear(hidden_dim, hidden_dim)\n",
        "        self.layer_4 = torch.nn.Linear(hidden_dim, output_dim)\n",
        "        \n",
        "        self.activation_1 = torch.nn.ReLU()\n",
        "        self.activation_2 = torch.nn.ReLU()\n",
        "        self.activation_3 = torch.nn.ReLU()\n",
        "        self.activation_3 = torch.nn.Softmax()\n",
        "\n",
        "    def forward(self, x):\n",
        "        x = self.layer_1(x)\n",
        "        x = self.activation_1(x)\n",
        "        x = self.layer_2(x)\n",
        "        x = self.activation_2(x)\n",
        "        x = self.layer_3(x)\n",
        "        x = self.activation_3(x)\n",
        "        x = self.layer_4(x)\n",
        "        x = self.activation_4(x)\n",
        "\n",
        "        return x\n",
        "\n",
        "print(DummyFullyConnectedNetwork(16, 10, 64))"
      ]
    },
    {
      "cell_type": "markdown",
      "metadata": {
        "id": "5C0spCqNJcNe"
      },
      "source": [
        "For such a simple network, using the `Sequential` wrapper might have been easier, quicker and resulted in code easier to read. However, this method of building neural network is more versatile. For example, we can easily alter the code to allow for a variable amount of hidden layers by using a list of layers instead of hardcoding the number of layers in the network definition. This can be achieved thanks to the `ModuleList` wrapper:"
      ]
    },
    {
      "cell_type": "code",
      "execution_count": 11,
      "metadata": {
        "colab": {
          "base_uri": "https://localhost:8080/"
        },
        "id": "8nr5NMJmJcNf",
        "outputId": "4e22c010-ef17-420b-c545-e85036ae7173"
      },
      "outputs": [
        {
          "name": "stdout",
          "output_type": "stream",
          "text": [
            "SmarterFullyConnectedNetwork(\n",
            "  (layers): ModuleList(\n",
            "    (0): Linear(in_features=16, out_features=64, bias=True)\n",
            "    (1): Linear(in_features=64, out_features=64, bias=True)\n",
            "    (2): Linear(in_features=64, out_features=64, bias=True)\n",
            "    (3): Linear(in_features=64, out_features=10, bias=True)\n",
            "  )\n",
            "  (activations): ModuleList(\n",
            "    (0): ReLU()\n",
            "    (1): ReLU()\n",
            "    (2): ReLU()\n",
            "    (3): Softmax(dim=-1)\n",
            "  )\n",
            ")\n"
          ]
        }
      ],
      "source": [
        "class SmarterFullyConnectedNetwork(torch.nn.Module):\n",
        "    def __init__(self, input_dim, output_dim, hidden_dim, nb_hidden_layers):\n",
        "        super().__init__()\n",
        "        \n",
        "        # Define layers\n",
        "        self.layers = torch.nn.ModuleList()\n",
        "        self.layers.append(torch.nn.Linear(input_dim, hidden_dim))\n",
        "        for i in range(nb_hidden_layers):\n",
        "            self.layers.append(torch.nn.Linear(hidden_dim, hidden_dim))\n",
        "        self.layers.append(torch.nn.Linear(hidden_dim, output_dim))\n",
        "\n",
        "        # Define activation functions\n",
        "        self.activations = torch.nn.ModuleList()\n",
        "        for i in range(nb_hidden_layers + 1):\n",
        "            self.activations.append(torch.nn.ReLU())\n",
        "        self.activations.append(torch.nn.Softmax(dim=-1))\n",
        "\n",
        "    def forward(self, x):\n",
        "        for i in range(len(self.layers)):\n",
        "            x = self.layers[i](x)\n",
        "            x = self.activations[i](x)\n",
        "\n",
        "        return x\n",
        "\n",
        "print(SmarterFullyConnectedNetwork(16, 10, 64, 2))"
      ]
    },
    {
      "cell_type": "markdown",
      "metadata": {
        "id": "lTlNGucoJcNg"
      },
      "source": [
        "# Neural Networks for images"
      ]
    },
    {
      "cell_type": "markdown",
      "metadata": {
        "id": "MKzhweA3JcNg"
      },
      "source": [
        "Up until now we have worked with data where each point of data was described with a single value for each of the input/output dimensions, either an integer or a real number. For example, when predicting `x+y` from `x` and `y` using mini-batch size, the shape of the input tensors was `(batch_size, 2)` and the shape of the output tensors was `(batch_size, 1)`.\n",
        "\n",
        "In this exercise, we want to predict the hand-drawn digit on each image. The dataset contains digits `0` to `9` so we are tackling a 10-class classification problem. Using mini-batches, the shape of our output data would be `(batch_size, 10)`\n",
        "\n",
        "Images are a more complex type of data. In the case of MNIST, images are in gray-scale, meaning that each pixel is represented with a single integer value, usually between 0 and 255. Thus, when using mini-batches with images of size `height * width` pixels, the shape of the input image batches would be `(batch_size, height, width, 1)`. In the case of RGB images, it would become `(batch_size, height, width, 3)` since each of the three color channels are encoded independently.\n",
        "\n",
        "Fully-connected layers in a DNN accept inputs of shape `(batch_size, input_dim)`. Thus, in order to accept images as inputs of those fully-connected layers, we need to \"flatten\" the image. A tensor of shape `(batch_size, height, width, 1)` would become of shape `(batch_size, height * width * 1)` and a tensor of shape `(batch_size, height, width, 3)` would become of shape `(batch_size, height * width * 3)`. Visually, it could be represented as:"
      ]
    },
    {
      "cell_type": "markdown",
      "metadata": {
        "id": "5YFdrusrJcNi"
      },
      "source": [
        "<Insert Image !>"
      ]
    },
    {
      "cell_type": "markdown",
      "metadata": {
        "id": "6jYg6VsvJcNj"
      },
      "source": [
        "The code for the network would become:"
      ]
    },
    {
      "cell_type": "code",
      "execution_count": 12,
      "metadata": {
        "colab": {
          "base_uri": "https://localhost:8080/"
        },
        "id": "yIJQkKLyJcNj",
        "outputId": "2a3b5b4c-9966-4f78-ae52-17a983a8d904"
      },
      "outputs": [
        {
          "name": "stdout",
          "output_type": "stream",
          "text": [
            "ImageFullyConnectedNetwork(\n",
            "  (layers): ModuleList(\n",
            "    (0): Linear(in_features=729, out_features=32, bias=True)\n",
            "    (1): Linear(in_features=32, out_features=32, bias=True)\n",
            "    (2): Linear(in_features=32, out_features=32, bias=True)\n",
            "    (3): Linear(in_features=32, out_features=10, bias=True)\n",
            "  )\n",
            "  (activations): ModuleList(\n",
            "    (0): ReLU()\n",
            "    (1): ReLU()\n",
            "    (2): ReLU()\n",
            "    (3): LogSoftmax(dim=-1)\n",
            "  )\n",
            ")\n"
          ]
        }
      ],
      "source": [
        "class ImageFullyConnectedNetwork(torch.nn.Module):\n",
        "    def __init__(self, image_height, image_width, pixel_dim, output_dim, hidden_dim, nb_hidden_layers):\n",
        "        super().__init__()\n",
        "        \n",
        "        # Define layers\n",
        "        self.layers = torch.nn.ModuleList()\n",
        "        self.layers.append(torch.nn.Linear(image_height * image_width * pixel_dim, hidden_dim))\n",
        "        for i in range(nb_hidden_layers):\n",
        "            self.layers.append(torch.nn.Linear(hidden_dim, hidden_dim))\n",
        "        self.layers.append(torch.nn.Linear(hidden_dim, output_dim))\n",
        "\n",
        "        # Define activation functions\n",
        "        self.activations = torch.nn.ModuleList()\n",
        "        for i in range(nb_hidden_layers + 1):\n",
        "            self.activations.append(torch.nn.ReLU())\n",
        "        self.activations.append(torch.nn.LogSoftmax(dim=-1))\n",
        "\n",
        "    def forward(self, x):\n",
        "        x = x.flatten(1) # Collapse/Flatten everything after the first dimension of the tensor, ie. everything that isn't the batch size\n",
        "        for i in range(len(self.layers)):\n",
        "            x = self.layers[i](x)\n",
        "            x = self.activations[i](x)\n",
        "\n",
        "        return x\n",
        "\n",
        "print(ImageFullyConnectedNetwork(image_height=27, image_width=27, pixel_dim=1, output_dim=10, hidden_dim=32, nb_hidden_layers=2))"
      ]
    },
    {
      "cell_type": "markdown",
      "metadata": {
        "id": "m42mBHGtJcNl"
      },
      "source": [
        "# Training a neural network for image classification"
      ]
    },
    {
      "cell_type": "code",
      "execution_count": 13,
      "metadata": {
        "id": "lT0awlA-JcNl"
      },
      "outputs": [],
      "source": [
        "# Build model\n",
        "model_fc = ImageFullyConnectedNetwork(image_height=28, image_width=28, pixel_dim=1, output_dim=10, hidden_dim=32, nb_hidden_layers=2)\n",
        "model_fc = model_fc.to(device)\n",
        "\n",
        "# Define loss\n",
        "loss_function = torch.nn.NLLLoss()\n",
        "\n",
        "# Define optimizer\n",
        "optimizer = torch.optim.SGD(params=model_fc.parameters(), lr=learning_rate)"
      ]
    },
    {
      "cell_type": "code",
      "execution_count": 14,
      "metadata": {
        "id": "bSYBFE0xJcNn"
      },
      "outputs": [],
      "source": [
        "# Training loop\n",
        "def train_model(model):\n",
        "    loss_train_overall, loss_dev_overall = [], []\n",
        "    accuracy_train_overall, accuracy_dev_overall = [], []\n",
        "    for epoch in range(1,nb_epoch+1): # Perform training and validation for an epoch (ie. Every sample of the dataset is seen exactly once.)\n",
        "        \n",
        "        # Perform training using mini-batches\n",
        "        loss_train_epoch = []\n",
        "        accuracy_train_epoch = []\n",
        "        for i, batch_data in enumerate(dataloader_train):\n",
        "            # Load a batch and perform feed-forward\n",
        "            x, y_true =  batch_data\n",
        "\n",
        "            # Move tensors to computing device (hardware acceleration if GPU, no difference if CPU)\n",
        "            x = x.to(device)\n",
        "            y_true = y_true.to(device)\n",
        "\n",
        "            # Perform prediction\n",
        "            y_pred = model(x)\n",
        "\n",
        "            # Compute loss between prediction and ground-truth\n",
        "            loss = loss_function(y_pred, y_true)\n",
        "            loss_train_epoch.append(loss.item())\n",
        "\n",
        "            # Compute accuracy between prediction and ground-truth\n",
        "            pred_labels = torch.argmax(y_pred, 1) # Get the most probable label for each item in the batch\n",
        "            good_pred = [1 if pred_labels[i] == y_true[i] else 0 for i in range(len(pred_labels))]\n",
        "            accuracy = np.sum(good_pred) / len(good_pred)\n",
        "            accuracy_train_epoch.append(accuracy)\n",
        "\n",
        "            # Perform back-propagation\n",
        "            optimizer.zero_grad()\n",
        "            loss.backward()\n",
        "            optimizer.step()\n",
        "        loss_train_overall.append(np.mean(loss_train_epoch))\n",
        "        accuracy_train_overall.append(np.mean(accuracy_train_epoch))\n",
        "\n",
        "        # At the end of an epoch, evaluate the model on the development set. It could be used to stop training when we diagnose over-fitting.\n",
        "        loss_dev_epoch = []\n",
        "        accuracy_dev_epoch = []\n",
        "        for i, batch_data in enumerate(dataloader_dev):\n",
        "            # Load a batch and perform feed-forward\n",
        "            x, y_true =  batch_data\n",
        "            x = x.to(device)\n",
        "            y_true = y_true.to(device)\n",
        "            y_pred = model(x)\n",
        "\n",
        "            # Compute loss between prediction and ground-truth\n",
        "            loss_dev_epoch.append(loss_function(y_pred, y_true).item())\n",
        "\n",
        "            # Compute accuracy between prediction and ground-truth\n",
        "            pred_labels = torch.argmax(y_pred, 1) # Get the most probable label for each item in the batch\n",
        "            good_pred = [1 if pred_labels[i] == y_true[i] else 0 for i in range(len(pred_labels))]\n",
        "            accuracy = np.sum(good_pred) / len(good_pred)\n",
        "            accuracy_dev_epoch.append(accuracy)\n",
        "\n",
        "        loss_dev_overall.append(np.mean(loss_dev_epoch))\n",
        "        accuracy_dev_overall.append(np.mean(accuracy_dev_epoch))\n",
        "\n",
        "        # Print training progress\n",
        "        print(f\"Epoch {epoch}/{nb_epoch}, loss_train={loss_train_overall[-1]}, loss_dev={loss_dev_overall[-1]}, acc_train={accuracy_train_overall[-1]}, acc_dev={accuracy_dev_overall[-1]}\")\n",
        "    return loss_train_overall, loss_dev_overall, accuracy_train_overall, accuracy_dev_overall"
      ]
    },
    {
      "cell_type": "code",
      "execution_count": 15,
      "metadata": {
        "colab": {
          "base_uri": "https://localhost:8080/"
        },
        "id": "LeaKSaTiJcNn",
        "outputId": "165459bf-5fa1-4de6-e0ff-406e102a2af1"
      },
      "outputs": [
        {
          "name": "stdout",
          "output_type": "stream",
          "text": [
            "Epoch 1/10, loss_train=2.301841489337949, loss_dev=2.2931946468353273, acc_train=0.10042305045185229, acc_dev=0.10766666666666666\n",
            "Epoch 2/10, loss_train=2.2746481012560333, loss_dev=2.2476102771759034, acc_train=0.18288983481955834, acc_dev=0.176\n",
            "Epoch 3/10, loss_train=2.1855195024988228, loss_dev=2.095003382364909, acc_train=0.1992563887725178, acc_dev=0.22866666666666666\n",
            "Epoch 4/10, loss_train=2.0008537240762942, loss_dev=1.8649049886067708, acc_train=0.29235367167394816, acc_dev=0.36466666666666664\n",
            "Epoch 5/10, loss_train=1.6277771746154832, loss_dev=1.2679072666168212, acc_train=0.539235965647256, acc_dev=0.6831666666666667\n",
            "Epoch 6/10, loss_train=1.006902835532346, loss_dev=0.8074663815498352, acc_train=0.7215927793404752, acc_dev=0.7608333333333334\n",
            "Epoch 7/10, loss_train=0.7497186037939265, loss_dev=0.6641925404866537, acc_train=0.7771990394398229, acc_dev=0.7971666666666667\n",
            "Epoch 8/10, loss_train=0.6334780110457054, loss_dev=0.5680267062584559, acc_train=0.8133453528038782, acc_dev=0.829\n",
            "Epoch 9/10, loss_train=0.5534520676927279, loss_dev=0.5053141456047694, acc_train=0.8366841971392663, acc_dev=0.8498333333333333\n",
            "Epoch 10/10, loss_train=0.50122913340667, loss_dev=0.464306614736716, acc_train=0.8534509844993716, acc_dev=0.8623333333333333\n"
          ]
        }
      ],
      "source": [
        "loss_train_overall, loss_dev_overall, accuracy_train_overall, accuracy_dev_overall = train_model(model_fc)"
      ]
    },
    {
      "cell_type": "code",
      "execution_count": 16,
      "metadata": {
        "id": "201XaxY5JcNo"
      },
      "outputs": [],
      "source": [
        "# Once the architecture has been hand-crafted over multiple tries and evaluated with the dev-set, the developper might have \n",
        "# manually \"over-fitted\" the solution on the dev-set. We can then evaluate the final performances of the system on the test-set.\n",
        "\n",
        "def evaluation(model):\n",
        "    loss_test = []\n",
        "    accuracy_test = []\n",
        "    for i, batch_data in enumerate(dataloader_test):\n",
        "        # Load a batch and perform feed-forward\n",
        "        x, y_true =  batch_data\n",
        "        x = x.to(device)\n",
        "        y_true = y_true.to(device)\n",
        "        y_pred = model(x)\n",
        "\n",
        "        # Compute loss between prediction and ground-truth\n",
        "        loss_test.append(loss_function(y_pred, y_true).item())\n",
        "\n",
        "        # Compute accuracy between prediction and ground-truth\n",
        "        pred_labels = torch.argmax(y_pred, 1) # Get the most probable label for each item in the batch\n",
        "        good_pred = [1 if pred_labels[i] == y_true[i] else 0 for i in range(len(pred_labels))]\n",
        "        accuracy = np.sum(good_pred) / len(good_pred)\n",
        "        accuracy_test.append(accuracy)\n",
        "\n",
        "    loss_test = np.mean(loss_test)\n",
        "    accuracy_test = np.mean(accuracy_test)\n",
        "\n",
        "    return loss_test, accuracy_test\n",
        "\n",
        "loss_test, accuracy_test = 0, 0\n",
        "if evaluate_on_test_set:\n",
        "    loss_test, accuracy_test = evaluation(model_fc)"
      ]
    },
    {
      "cell_type": "code",
      "execution_count": 17,
      "metadata": {
        "colab": {
          "base_uri": "https://localhost:8080/",
          "height": 267
        },
        "id": "82b9oLIPJcNp",
        "outputId": "a52f1072-8880-4f1a-ad89-ea7eb7b54ebb"
      },
      "outputs": [
        {
          "data": {
            "image/png": "[encoded data removed]",
            "text/plain": [
              "<Figure size 432x288 with 2 Axes>"
            ]
          },
          "metadata": {
            "needs_background": "light"
          },
          "output_type": "display_data"
        }
      ],
      "source": [
        "# Plot the training progress and saves it as a file\n",
        "def plot(save_plot_path, loss_train_overall, loss_dev_overall, loss_test, accuracy_train_overall, accuracy_dev_overall, accuracy_test):\n",
        "    fig, ax = plt.subplots(1, 2)\n",
        "\n",
        "    x = [i for i in range(1,len(loss_train_overall)+1)]\n",
        "\n",
        "    # Plot loss\n",
        "    ax[0].plot(x, loss_train_overall, label=\"loss_train\")\n",
        "    ax[0].plot(x, loss_dev_overall, label=\"loss_dev\")\n",
        "    if evaluate_on_test_set:\n",
        "        ax[0].plot(x, [loss_test]*len(x), label=\"loss_test\")\n",
        "    ax[0].legend()\n",
        "\n",
        "    # Plot accuracy\n",
        "    ax[1].plot(x, accuracy_train_overall, label=\"acc_train\")\n",
        "    ax[1].plot(x, accuracy_dev_overall, label=\"acc_dev\")\n",
        "    if evaluate_on_test_set:\n",
        "        ax[1].plot(x, [accuracy_test]*len(x), label=\"acc_test\")\n",
        "    ax[1].legend()\n",
        "\n",
        "    plt.savefig(save_plot_path)\n",
        "\n",
        "plot(save_plot_path_dnn, loss_train_overall, loss_dev_overall, loss_test, accuracy_train_overall, accuracy_dev_overall, accuracy_test)\n"
      ]
    },
    {
      "cell_type": "markdown",
      "metadata": {
        "id": "ojfWVm4QJcNq"
      },
      "source": [
        "# Convolution layers : designed for images (and more ?)"
      ]
    },
    {
      "cell_type": "markdown",
      "metadata": {
        "id": "sLMkbbPrJcNq"
      },
      "source": [
        "We have seen that we can use fully connected layers to build neural networks that work on images. However, that solution has its issues, mainly due to the compression of an image as a single vector of size `height*width*pixel_dim`. More importantly we do not make use of the structure of an image. In images, patterns with semantic meaning might be found in groups of neighbouring pixels. However, fully-connected layers do not take local spatiality into account.\n",
        "\n",
        "Convolution layers provide a solution. See https://towardsdatascience.com/a-comprehensive-guide-to-convolutional-neural-networks-the-eli5-way-3bd2b1164a53 for an introduction of how they work.\n",
        "\n",
        "What follows is an implementation of DNN using convolution layers with PyTorch."
      ]
    },
    {
      "cell_type": "code",
      "execution_count": 18,
      "metadata": {
        "colab": {
          "base_uri": "https://localhost:8080/"
        },
        "id": "EYoe_e5wJcNr",
        "outputId": "2b712089-a208-44d9-a7f0-6526400424e1"
      },
      "outputs": [
        {
          "name": "stdout",
          "output_type": "stream",
          "text": [
            "ConvolutionNetwork(\n",
            "  (layer_1): Conv2d(1, 6, kernel_size=(3, 3), stride=(1, 1))\n",
            "  (layer_2): Conv2d(6, 6, kernel_size=(3, 3), stride=(1, 1))\n",
            "  (layer_3): Conv2d(6, 6, kernel_size=(3, 3), stride=(1, 1))\n",
            "  (layer_4): Linear(in_features=2904, out_features=10, bias=True)\n",
            "  (final_activation): LogSoftmax(dim=-1)\n",
            ")\n"
          ]
        }
      ],
      "source": [
        "class ConvolutionNetwork(torch.nn.Module):\n",
        "    def __init__(self, pixel_dim, intermediary_channels, kernel_size, nb_classes, image_width, image_height):\n",
        "        super().__init__()\n",
        "        self.layer_1 = torch.nn.Conv2d(pixel_dim, intermediary_channels, kernel_size)\n",
        "        self.layer_2 = torch.nn.Conv2d(intermediary_channels, intermediary_channels, kernel_size)\n",
        "        self.layer_3 = torch.nn.Conv2d(intermediary_channels, intermediary_channels, kernel_size)\n",
        "        self.layer_4 = torch.nn.Linear(intermediary_channels*(image_width-(kernel_size-1)*3)*(image_height-(kernel_size-1)*3), nb_classes)\n",
        "\n",
        "        self.final_activation = torch.nn.LogSoftmax(dim=-1)\n",
        "        \n",
        "    def forward(self, x):\n",
        "        x = self.layer_1(x)\n",
        "        x = self.layer_2(x)\n",
        "        x = self.layer_3(x)\n",
        "        x = x.flatten(1)\n",
        "        x = self.layer_4(x)\n",
        "        x = self.final_activation(x)\n",
        "\n",
        "        return x\n",
        "\n",
        "print(ConvolutionNetwork(1, 6, 3, 10, 28, 28))"
      ]
    },
    {
      "cell_type": "code",
      "execution_count": 19,
      "metadata": {
        "colab": {
          "base_uri": "https://localhost:8080/"
        },
        "id": "WaFFqyQ_JcNs",
        "outputId": "ee517daf-b68f-48bf-9fff-573c27c1ab0b"
      },
      "outputs": [
        {
          "name": "stdout",
          "output_type": "stream",
          "text": [
            "Epoch 1/10, loss_train=1.0898376982815445, loss_dev=0.40668828117350736, acc_train=0.69050362080316, acc_dev=0.8711666666666666\n",
            "Epoch 2/10, loss_train=0.3657845415354604, loss_dev=0.35899022967368366, acc_train=0.8953670177748518, acc_dev=0.885\n",
            "Epoch 3/10, loss_train=0.34149714909313666, loss_dev=0.3424706707124909, acc_train=0.9025674786043449, acc_dev=0.8943333333333333\n",
            "Epoch 4/10, loss_train=0.3298092198566122, loss_dev=0.3334399305532376, acc_train=0.9054888084265964, acc_dev=0.898\n",
            "Epoch 5/10, loss_train=0.3224072798965787, loss_dev=0.327253197748214, acc_train=0.9081015470704411, acc_dev=0.8991666666666667\n",
            "Epoch 6/10, loss_train=0.31708740818217995, loss_dev=0.32256899366900327, acc_train=0.9099119486504279, acc_dev=0.9005\n",
            "Epoch 7/10, loss_train=0.31300624102228974, loss_dev=0.31885951239118976, acc_train=0.9117017774851877, acc_dev=0.902\n",
            "Epoch 8/10, loss_train=0.30974574760721485, loss_dev=0.3158258384478589, acc_train=0.912421823568137, acc_dev=0.9028333333333334\n",
            "Epoch 9/10, loss_train=0.3070564840682994, loss_dev=0.31326722670843204, acc_train=0.9131830151415404, acc_dev=0.9041666666666667\n",
            "Epoch 10/10, loss_train=0.3047760670460206, loss_dev=0.31104787906135123, acc_train=0.914108788676761, acc_dev=0.9055\n"
          ]
        }
      ],
      "source": [
        "# Build model\n",
        "model_conv = ConvolutionNetwork(image_height=28, image_width=28, pixel_dim=1, intermediary_channels=3, kernel_size=4, nb_classes=10)\n",
        "model_conv = model_conv.to(device)\n",
        "\n",
        "# Define loss\n",
        "loss_function = torch.nn.NLLLoss()\n",
        "\n",
        "# Define optimizer\n",
        "optimizer = torch.optim.SGD(params=model_conv.parameters(), lr=learning_rate)\n",
        "\n",
        "# Train the model\n",
        "loss_train_overall, loss_dev_overall, accuracy_train_overall, accuracy_dev_overall = train_model(model_conv)"
      ]
    },
    {
      "cell_type": "code",
      "execution_count": 20,
      "metadata": {
        "colab": {
          "base_uri": "https://localhost:8080/",
          "height": 265
        },
        "id": "GqNl10PXJcNt",
        "outputId": "e1b814e5-e079-4207-feff-f7de0c98c191"
      },
      "outputs": [
        {
          "data": {
            "image/png": "[encoded data removed]",
            "text/plain": [
              "<Figure size 432x288 with 2 Axes>"
            ]
          },
          "metadata": {
            "needs_background": "light"
          },
          "output_type": "display_data"
        }
      ],
      "source": [
        "loss_test, accuracy_test = 0, 0\n",
        "if evaluate_on_test_set:\n",
        "    loss_test, accuracy_test = evaluation(model_conv)\n",
        "\n",
        "plot(save_plot_path_cnn, loss_train_overall, loss_dev_overall, loss_test, accuracy_train_overall, accuracy_dev_overall, accuracy_test)"
      ]
    },
    {
      "cell_type": "markdown",
      "metadata": {},
      "source": [
        "Let us look at the number of parameters of the Feed-Forward DNN and the convolution-based DNN."
      ]
    },
    {
      "cell_type": "code",
      "execution_count": 21,
      "metadata": {
        "colab": {
          "base_uri": "https://localhost:8080/"
        },
        "id": "Y9_2NAWpJcNt",
        "outputId": "b7c66f53-87b9-408b-8f6e-6faa4618fae4"
      },
      "outputs": [
        {
          "name": "stdout",
          "output_type": "stream",
          "text": [
            "----------------------------------------------------------------\n",
            "        Layer (type)               Output Shape         Param #\n",
            "================================================================\n",
            "            Linear-1                   [-1, 32]          25,120\n",
            "              ReLU-2                   [-1, 32]               0\n",
            "            Linear-3                   [-1, 32]           1,056\n",
            "              ReLU-4                   [-1, 32]               0\n",
            "            Linear-5                   [-1, 32]           1,056\n",
            "              ReLU-6                   [-1, 32]               0\n",
            "            Linear-7                   [-1, 10]             330\n",
            "        LogSoftmax-8                   [-1, 10]               0\n",
            "================================================================\n",
            "Total params: 27,562\n",
            "Trainable params: 27,562\n",
            "Non-trainable params: 0\n",
            "----------------------------------------------------------------\n",
            "Input size (MB): 0.00\n",
            "Forward/backward pass size (MB): 0.00\n",
            "Params size (MB): 0.11\n",
            "Estimated Total Size (MB): 0.11\n",
            "----------------------------------------------------------------\n",
            "----------------------------------------------------------------\n",
            "        Layer (type)               Output Shape         Param #\n",
            "================================================================\n",
            "            Conv2d-1            [-1, 3, 25, 25]              51\n",
            "            Conv2d-2            [-1, 3, 22, 22]             147\n",
            "            Conv2d-3            [-1, 3, 19, 19]             147\n",
            "            Linear-4                   [-1, 10]          10,840\n",
            "        LogSoftmax-5                   [-1, 10]               0\n",
            "================================================================\n",
            "Total params: 11,185\n",
            "Trainable params: 11,185\n",
            "Non-trainable params: 0\n",
            "----------------------------------------------------------------\n",
            "Input size (MB): 0.00\n",
            "Forward/backward pass size (MB): 0.03\n",
            "Params size (MB): 0.04\n",
            "Estimated Total Size (MB): 0.08\n",
            "----------------------------------------------------------------\n"
          ]
        }
      ],
      "source": [
        "summary(model_fc, (1, 28, 28))\n",
        "summary(model_conv, (1, 28, 28))"
      ]
    },
    {
      "cell_type": "markdown",
      "metadata": {},
      "source": [
        "The convolution-based network has half as much parameters than the feed-forward DNN but offers better performance !"
      ]
    }
  ],
  "metadata": {
    "accelerator": "GPU",
    "colab": {
      "collapsed_sections": [],
      "name": "MNIST.ipynb",
      "provenance": []
    },
    "interpreter": {
      "hash": "fc9342d4571c5d05bc629f06ece49bc48cfabe78577aaee501f4c977dbf38be1"
    },
    "kernelspec": {
      "display_name": "Python 3.9.7 ('tp_victor')",
      "language": "python",
      "name": "python3"
    },
    "language_info": {
      "codemirror_mode": {
        "name": "ipython",
        "version": 3
      },
      "file_extension": ".py",
      "mimetype": "text/x-python",
      "name": "python",
      "nbconvert_exporter": "python",
      "pygments_lexer": "ipython3",
      "version": "3.9.7"
    },
    "orig_nbformat": 4
  },
  "nbformat": 4,
  "nbformat_minor": 0
}
